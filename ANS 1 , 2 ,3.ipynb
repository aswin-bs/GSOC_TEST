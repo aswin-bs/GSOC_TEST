{
 "cells": [
  {
   "cell_type": "code",
   "execution_count": 1,
   "id": "32164ba9",
   "metadata": {},
   "outputs": [],
   "source": [
    "import pandas as pd\n",
    "from sklearn.cluster import KMeans\n",
    "import matplotlib.pyplot as plt"
   ]
  },
  {
   "cell_type": "code",
   "execution_count": 2,
   "id": "aec35c05",
   "metadata": {},
   "outputs": [],
   "source": [
    "df_raw = pd.read_csv('Data.dat' , delimiter = '\\t' , header = None)"
   ]
  },
  {
   "cell_type": "code",
   "execution_count": 3,
   "id": "4afa6986",
   "metadata": {},
   "outputs": [
    {
     "data": {
      "text/html": [
       "<div>\n",
       "<style scoped>\n",
       "    .dataframe tbody tr th:only-of-type {\n",
       "        vertical-align: middle;\n",
       "    }\n",
       "\n",
       "    .dataframe tbody tr th {\n",
       "        vertical-align: top;\n",
       "    }\n",
       "\n",
       "    .dataframe thead th {\n",
       "        text-align: right;\n",
       "    }\n",
       "</style>\n",
       "<table border=\"1\" class=\"dataframe\">\n",
       "  <thead>\n",
       "    <tr style=\"text-align: right;\">\n",
       "      <th></th>\n",
       "      <th>0</th>\n",
       "    </tr>\n",
       "  </thead>\n",
       "  <tbody>\n",
       "    <tr>\n",
       "      <th>0</th>\n",
       "      <td>DatTime SimTime MediaTime LonAccel LatAccel Th...</td>\n",
       "    </tr>\n",
       "    <tr>\n",
       "      <th>1</th>\n",
       "      <td>0.016 0 0.133333 0.000448 0.001680 1.308809 0....</td>\n",
       "    </tr>\n",
       "    <tr>\n",
       "      <th>2</th>\n",
       "      <td>0.033 0 0.133333 0.000700 0.018673 1.308809 0....</td>\n",
       "    </tr>\n",
       "    <tr>\n",
       "      <th>3</th>\n",
       "      <td>0.049 0 0.166666 0.000808 0.030992 1.308809 0....</td>\n",
       "    </tr>\n",
       "    <tr>\n",
       "      <th>4</th>\n",
       "      <td>0.065 0 0.166666 0.000791 0.037267 1.308809 0....</td>\n",
       "    </tr>\n",
       "  </tbody>\n",
       "</table>\n",
       "</div>"
      ],
      "text/plain": [
       "                                                   0\n",
       "0  DatTime SimTime MediaTime LonAccel LatAccel Th...\n",
       "1  0.016 0 0.133333 0.000448 0.001680 1.308809 0....\n",
       "2  0.033 0 0.133333 0.000700 0.018673 1.308809 0....\n",
       "3  0.049 0 0.166666 0.000808 0.030992 1.308809 0....\n",
       "4  0.065 0 0.166666 0.000791 0.037267 1.308809 0...."
      ]
     },
     "execution_count": 3,
     "metadata": {},
     "output_type": "execute_result"
    }
   ],
   "source": [
    "df_raw.head()\n"
   ]
  },
  {
   "cell_type": "code",
   "execution_count": 4,
   "id": "63e0a546",
   "metadata": {},
   "outputs": [],
   "source": [
    "columns = df_raw.iloc[0,0].split()\n",
    "df = pd.DataFrame(df_raw[0].str.split().tolist() , columns = columns)"
   ]
  },
  {
   "cell_type": "code",
   "execution_count": 5,
   "id": "2b9d880e",
   "metadata": {},
   "outputs": [
    {
     "data": {
      "text/html": [
       "<div>\n",
       "<style scoped>\n",
       "    .dataframe tbody tr th:only-of-type {\n",
       "        vertical-align: middle;\n",
       "    }\n",
       "\n",
       "    .dataframe tbody tr th {\n",
       "        vertical-align: top;\n",
       "    }\n",
       "\n",
       "    .dataframe thead th {\n",
       "        text-align: right;\n",
       "    }\n",
       "</style>\n",
       "<table border=\"1\" class=\"dataframe\">\n",
       "  <thead>\n",
       "    <tr style=\"text-align: right;\">\n",
       "      <th></th>\n",
       "      <th>DatTime</th>\n",
       "      <th>SimTime</th>\n",
       "      <th>MediaTime</th>\n",
       "      <th>LonAccel</th>\n",
       "      <th>LatAccel</th>\n",
       "      <th>Throttle</th>\n",
       "      <th>Brake</th>\n",
       "      <th>Gear</th>\n",
       "      <th>Heading</th>\n",
       "      <th>HeadwayDistance</th>\n",
       "      <th>...</th>\n",
       "      <th>FollowCarBrakingStatus</th>\n",
       "      <th>BoxStatus</th>\n",
       "      <th>ResponseButton</th>\n",
       "      <th>CriticalEventStatus</th>\n",
       "      <th>FRAME_NUM</th>\n",
       "      <th>FILTERED_GAZE_OBJ_NAME</th>\n",
       "      <th>ESTIMATED_CLOSEST_WORLD_INTERSECTION</th>\n",
       "      <th>REALTIME_CLOCK</th>\n",
       "      <th>hiFileTime</th>\n",
       "      <th>lowFileTime</th>\n",
       "    </tr>\n",
       "  </thead>\n",
       "  <tbody>\n",
       "    <tr>\n",
       "      <th>0</th>\n",
       "      <td>DatTime</td>\n",
       "      <td>SimTime</td>\n",
       "      <td>MediaTime</td>\n",
       "      <td>LonAccel</td>\n",
       "      <td>LatAccel</td>\n",
       "      <td>Throttle</td>\n",
       "      <td>Brake</td>\n",
       "      <td>Gear</td>\n",
       "      <td>Heading</td>\n",
       "      <td>HeadwayDistance</td>\n",
       "      <td>...</td>\n",
       "      <td>FollowCarBrakingStatus</td>\n",
       "      <td>BoxStatus</td>\n",
       "      <td>ResponseButton</td>\n",
       "      <td>CriticalEventStatus</td>\n",
       "      <td>FRAME_NUM</td>\n",
       "      <td>FILTERED_GAZE_OBJ_NAME</td>\n",
       "      <td>ESTIMATED_CLOSEST_WORLD_INTERSECTION</td>\n",
       "      <td>REALTIME_CLOCK</td>\n",
       "      <td>hiFileTime</td>\n",
       "      <td>lowFileTime</td>\n",
       "    </tr>\n",
       "    <tr>\n",
       "      <th>1</th>\n",
       "      <td>0.016</td>\n",
       "      <td>0</td>\n",
       "      <td>0.133333</td>\n",
       "      <td>0.000448</td>\n",
       "      <td>0.001680</td>\n",
       "      <td>1.308809</td>\n",
       "      <td>0.000000</td>\n",
       "      <td>0.000000</td>\n",
       "      <td>359.999687</td>\n",
       "      <td>91.047424</td>\n",
       "      <td>...</td>\n",
       "      <td>0.000000</td>\n",
       "      <td>0.000000</td>\n",
       "      <td>0.000000</td>\n",
       "      <td>0.000000</td>\n",
       "      <td>.</td>\n",
       "      <td>.</td>\n",
       "      <td>.</td>\n",
       "      <td>.</td>\n",
       "      <td>.</td>\n",
       "      <td>.</td>\n",
       "    </tr>\n",
       "    <tr>\n",
       "      <th>2</th>\n",
       "      <td>0.033</td>\n",
       "      <td>0</td>\n",
       "      <td>0.133333</td>\n",
       "      <td>0.000700</td>\n",
       "      <td>0.018673</td>\n",
       "      <td>1.308809</td>\n",
       "      <td>0.000000</td>\n",
       "      <td>0.000000</td>\n",
       "      <td>359.999555</td>\n",
       "      <td>91.046936</td>\n",
       "      <td>...</td>\n",
       "      <td>0.000000</td>\n",
       "      <td>0.000000</td>\n",
       "      <td>0.000000</td>\n",
       "      <td>0.000000</td>\n",
       "      <td>.</td>\n",
       "      <td>.</td>\n",
       "      <td>.</td>\n",
       "      <td>.</td>\n",
       "      <td>.</td>\n",
       "      <td>.</td>\n",
       "    </tr>\n",
       "    <tr>\n",
       "      <th>3</th>\n",
       "      <td>0.049</td>\n",
       "      <td>0</td>\n",
       "      <td>0.166666</td>\n",
       "      <td>0.000808</td>\n",
       "      <td>0.030992</td>\n",
       "      <td>1.308809</td>\n",
       "      <td>0.000000</td>\n",
       "      <td>0.000000</td>\n",
       "      <td>359.999391</td>\n",
       "      <td>91.045715</td>\n",
       "      <td>...</td>\n",
       "      <td>0.000000</td>\n",
       "      <td>0.000000</td>\n",
       "      <td>0.000000</td>\n",
       "      <td>0.000000</td>\n",
       "      <td>.</td>\n",
       "      <td>.</td>\n",
       "      <td>.</td>\n",
       "      <td>.</td>\n",
       "      <td>.</td>\n",
       "      <td>.</td>\n",
       "    </tr>\n",
       "    <tr>\n",
       "      <th>4</th>\n",
       "      <td>0.065</td>\n",
       "      <td>0</td>\n",
       "      <td>0.166666</td>\n",
       "      <td>0.000791</td>\n",
       "      <td>0.037267</td>\n",
       "      <td>1.308809</td>\n",
       "      <td>0.000000</td>\n",
       "      <td>0.000000</td>\n",
       "      <td>359.999225</td>\n",
       "      <td>91.044128</td>\n",
       "      <td>...</td>\n",
       "      <td>0.000000</td>\n",
       "      <td>0.000000</td>\n",
       "      <td>0.000000</td>\n",
       "      <td>0.000000</td>\n",
       "      <td>.</td>\n",
       "      <td>.</td>\n",
       "      <td>.</td>\n",
       "      <td>.</td>\n",
       "      <td>.</td>\n",
       "      <td>.</td>\n",
       "    </tr>\n",
       "  </tbody>\n",
       "</table>\n",
       "<p>5 rows × 37 columns</p>\n",
       "</div>"
      ],
      "text/plain": [
       "   DatTime  SimTime  MediaTime  LonAccel  LatAccel  Throttle     Brake  \\\n",
       "0  DatTime  SimTime  MediaTime  LonAccel  LatAccel  Throttle     Brake   \n",
       "1    0.016        0   0.133333  0.000448  0.001680  1.308809  0.000000   \n",
       "2    0.033        0   0.133333  0.000700  0.018673  1.308809  0.000000   \n",
       "3    0.049        0   0.166666  0.000808  0.030992  1.308809  0.000000   \n",
       "4    0.065        0   0.166666  0.000791  0.037267  1.308809  0.000000   \n",
       "\n",
       "       Gear     Heading  HeadwayDistance  ...  FollowCarBrakingStatus  \\\n",
       "0      Gear     Heading  HeadwayDistance  ...  FollowCarBrakingStatus   \n",
       "1  0.000000  359.999687        91.047424  ...                0.000000   \n",
       "2  0.000000  359.999555        91.046936  ...                0.000000   \n",
       "3  0.000000  359.999391        91.045715  ...                0.000000   \n",
       "4  0.000000  359.999225        91.044128  ...                0.000000   \n",
       "\n",
       "   BoxStatus  ResponseButton  CriticalEventStatus  FRAME_NUM  \\\n",
       "0  BoxStatus  ResponseButton  CriticalEventStatus  FRAME_NUM   \n",
       "1   0.000000        0.000000             0.000000          .   \n",
       "2   0.000000        0.000000             0.000000          .   \n",
       "3   0.000000        0.000000             0.000000          .   \n",
       "4   0.000000        0.000000             0.000000          .   \n",
       "\n",
       "   FILTERED_GAZE_OBJ_NAME  ESTIMATED_CLOSEST_WORLD_INTERSECTION  \\\n",
       "0  FILTERED_GAZE_OBJ_NAME  ESTIMATED_CLOSEST_WORLD_INTERSECTION   \n",
       "1                       .                                     .   \n",
       "2                       .                                     .   \n",
       "3                       .                                     .   \n",
       "4                       .                                     .   \n",
       "\n",
       "   REALTIME_CLOCK  hiFileTime  lowFileTime  \n",
       "0  REALTIME_CLOCK  hiFileTime  lowFileTime  \n",
       "1               .           .            .  \n",
       "2               .           .            .  \n",
       "3               .           .            .  \n",
       "4               .           .            .  \n",
       "\n",
       "[5 rows x 37 columns]"
      ]
     },
     "execution_count": 5,
     "metadata": {},
     "output_type": "execute_result"
    }
   ],
   "source": [
    "df.head()"
   ]
  },
  {
   "cell_type": "code",
   "execution_count": 6,
   "id": "66f7458a",
   "metadata": {},
   "outputs": [
    {
     "data": {
      "text/html": [
       "<div>\n",
       "<style scoped>\n",
       "    .dataframe tbody tr th:only-of-type {\n",
       "        vertical-align: middle;\n",
       "    }\n",
       "\n",
       "    .dataframe tbody tr th {\n",
       "        vertical-align: top;\n",
       "    }\n",
       "\n",
       "    .dataframe thead th {\n",
       "        text-align: right;\n",
       "    }\n",
       "</style>\n",
       "<table border=\"1\" class=\"dataframe\">\n",
       "  <thead>\n",
       "    <tr style=\"text-align: right;\">\n",
       "      <th></th>\n",
       "      <th>DatTime</th>\n",
       "      <th>SimTime</th>\n",
       "      <th>MediaTime</th>\n",
       "      <th>LonAccel</th>\n",
       "      <th>LatAccel</th>\n",
       "      <th>Throttle</th>\n",
       "      <th>Brake</th>\n",
       "      <th>Gear</th>\n",
       "      <th>Heading</th>\n",
       "      <th>HeadwayDistance</th>\n",
       "      <th>...</th>\n",
       "      <th>FollowCarBrakingStatus</th>\n",
       "      <th>BoxStatus</th>\n",
       "      <th>ResponseButton</th>\n",
       "      <th>CriticalEventStatus</th>\n",
       "      <th>FRAME_NUM</th>\n",
       "      <th>FILTERED_GAZE_OBJ_NAME</th>\n",
       "      <th>ESTIMATED_CLOSEST_WORLD_INTERSECTION</th>\n",
       "      <th>REALTIME_CLOCK</th>\n",
       "      <th>hiFileTime</th>\n",
       "      <th>lowFileTime</th>\n",
       "    </tr>\n",
       "  </thead>\n",
       "  <tbody>\n",
       "    <tr>\n",
       "      <th>0</th>\n",
       "      <td>0.016</td>\n",
       "      <td>0</td>\n",
       "      <td>0.133333</td>\n",
       "      <td>0.000448</td>\n",
       "      <td>0.001680</td>\n",
       "      <td>1.308809</td>\n",
       "      <td>0.0</td>\n",
       "      <td>0.0</td>\n",
       "      <td>359.999687</td>\n",
       "      <td>91.047424</td>\n",
       "      <td>...</td>\n",
       "      <td>0.0</td>\n",
       "      <td>0.0</td>\n",
       "      <td>0.0</td>\n",
       "      <td>0.0</td>\n",
       "      <td>NaN</td>\n",
       "      <td>NaN</td>\n",
       "      <td>NaN</td>\n",
       "      <td>NaN</td>\n",
       "      <td>NaN</td>\n",
       "      <td>NaN</td>\n",
       "    </tr>\n",
       "    <tr>\n",
       "      <th>1</th>\n",
       "      <td>0.033</td>\n",
       "      <td>0</td>\n",
       "      <td>0.133333</td>\n",
       "      <td>0.000700</td>\n",
       "      <td>0.018673</td>\n",
       "      <td>1.308809</td>\n",
       "      <td>0.0</td>\n",
       "      <td>0.0</td>\n",
       "      <td>359.999555</td>\n",
       "      <td>91.046936</td>\n",
       "      <td>...</td>\n",
       "      <td>0.0</td>\n",
       "      <td>0.0</td>\n",
       "      <td>0.0</td>\n",
       "      <td>0.0</td>\n",
       "      <td>NaN</td>\n",
       "      <td>NaN</td>\n",
       "      <td>NaN</td>\n",
       "      <td>NaN</td>\n",
       "      <td>NaN</td>\n",
       "      <td>NaN</td>\n",
       "    </tr>\n",
       "    <tr>\n",
       "      <th>2</th>\n",
       "      <td>0.049</td>\n",
       "      <td>0</td>\n",
       "      <td>0.166666</td>\n",
       "      <td>0.000808</td>\n",
       "      <td>0.030992</td>\n",
       "      <td>1.308809</td>\n",
       "      <td>0.0</td>\n",
       "      <td>0.0</td>\n",
       "      <td>359.999391</td>\n",
       "      <td>91.045715</td>\n",
       "      <td>...</td>\n",
       "      <td>0.0</td>\n",
       "      <td>0.0</td>\n",
       "      <td>0.0</td>\n",
       "      <td>0.0</td>\n",
       "      <td>NaN</td>\n",
       "      <td>NaN</td>\n",
       "      <td>NaN</td>\n",
       "      <td>NaN</td>\n",
       "      <td>NaN</td>\n",
       "      <td>NaN</td>\n",
       "    </tr>\n",
       "    <tr>\n",
       "      <th>3</th>\n",
       "      <td>0.065</td>\n",
       "      <td>0</td>\n",
       "      <td>0.166666</td>\n",
       "      <td>0.000791</td>\n",
       "      <td>0.037267</td>\n",
       "      <td>1.308809</td>\n",
       "      <td>0.0</td>\n",
       "      <td>0.0</td>\n",
       "      <td>359.999225</td>\n",
       "      <td>91.044128</td>\n",
       "      <td>...</td>\n",
       "      <td>0.0</td>\n",
       "      <td>0.0</td>\n",
       "      <td>0.0</td>\n",
       "      <td>0.0</td>\n",
       "      <td>NaN</td>\n",
       "      <td>NaN</td>\n",
       "      <td>NaN</td>\n",
       "      <td>NaN</td>\n",
       "      <td>NaN</td>\n",
       "      <td>NaN</td>\n",
       "    </tr>\n",
       "    <tr>\n",
       "      <th>4</th>\n",
       "      <td>0.082</td>\n",
       "      <td>0</td>\n",
       "      <td>0.200000</td>\n",
       "      <td>0.000659</td>\n",
       "      <td>0.037458</td>\n",
       "      <td>1.308809</td>\n",
       "      <td>0.0</td>\n",
       "      <td>0.0</td>\n",
       "      <td>359.999085</td>\n",
       "      <td>91.042297</td>\n",
       "      <td>...</td>\n",
       "      <td>0.0</td>\n",
       "      <td>0.0</td>\n",
       "      <td>0.0</td>\n",
       "      <td>0.0</td>\n",
       "      <td>NaN</td>\n",
       "      <td>NaN</td>\n",
       "      <td>NaN</td>\n",
       "      <td>NaN</td>\n",
       "      <td>NaN</td>\n",
       "      <td>NaN</td>\n",
       "    </tr>\n",
       "  </tbody>\n",
       "</table>\n",
       "<p>5 rows × 37 columns</p>\n",
       "</div>"
      ],
      "text/plain": [
       "   DatTime  SimTime  MediaTime  LonAccel  LatAccel  Throttle  Brake  Gear  \\\n",
       "0    0.016        0   0.133333  0.000448  0.001680  1.308809    0.0   0.0   \n",
       "1    0.033        0   0.133333  0.000700  0.018673  1.308809    0.0   0.0   \n",
       "2    0.049        0   0.166666  0.000808  0.030992  1.308809    0.0   0.0   \n",
       "3    0.065        0   0.166666  0.000791  0.037267  1.308809    0.0   0.0   \n",
       "4    0.082        0   0.200000  0.000659  0.037458  1.308809    0.0   0.0   \n",
       "\n",
       "      Heading  HeadwayDistance  ...  FollowCarBrakingStatus  BoxStatus  \\\n",
       "0  359.999687        91.047424  ...                     0.0        0.0   \n",
       "1  359.999555        91.046936  ...                     0.0        0.0   \n",
       "2  359.999391        91.045715  ...                     0.0        0.0   \n",
       "3  359.999225        91.044128  ...                     0.0        0.0   \n",
       "4  359.999085        91.042297  ...                     0.0        0.0   \n",
       "\n",
       "   ResponseButton  CriticalEventStatus  FRAME_NUM  FILTERED_GAZE_OBJ_NAME  \\\n",
       "0             0.0                  0.0        NaN                     NaN   \n",
       "1             0.0                  0.0        NaN                     NaN   \n",
       "2             0.0                  0.0        NaN                     NaN   \n",
       "3             0.0                  0.0        NaN                     NaN   \n",
       "4             0.0                  0.0        NaN                     NaN   \n",
       "\n",
       "   ESTIMATED_CLOSEST_WORLD_INTERSECTION  REALTIME_CLOCK  hiFileTime  \\\n",
       "0                                   NaN             NaN         NaN   \n",
       "1                                   NaN             NaN         NaN   \n",
       "2                                   NaN             NaN         NaN   \n",
       "3                                   NaN             NaN         NaN   \n",
       "4                                   NaN             NaN         NaN   \n",
       "\n",
       "   lowFileTime  \n",
       "0          NaN  \n",
       "1          NaN  \n",
       "2          NaN  \n",
       "3          NaN  \n",
       "4          NaN  \n",
       "\n",
       "[5 rows x 37 columns]"
      ]
     },
     "execution_count": 6,
     "metadata": {},
     "output_type": "execute_result"
    }
   ],
   "source": [
    "df = df.drop(df.index[0])\n",
    "df = df.reset_index(drop=True)\n",
    "\n",
    "for col in df :\n",
    "    df[col] = pd.to_numeric(df[col], errors='coerce')\n",
    "\n",
    "\n",
    "df.head()"
   ]
  },
  {
   "cell_type": "code",
   "execution_count": 7,
   "id": "9e400d69",
   "metadata": {
    "scrolled": true
   },
   "outputs": [],
   "source": [
    "df['SuddenBrake'] = (df['Brake'].diff() > 0.5).astype(int) "
   ]
  },
  {
   "cell_type": "code",
   "execution_count": 8,
   "id": "fc2d0114",
   "metadata": {},
   "outputs": [],
   "source": [
    "features = [\"LatAccel\", \"Throttle\", \"Brake\", \"Steer\" ,\"SuddenBrake\"]"
   ]
  },
  {
   "cell_type": "markdown",
   "id": "dafd5f61",
   "metadata": {},
   "source": [
    "# #DRIVER RISK "
   ]
  },
  {
   "cell_type": "code",
   "execution_count": 9,
   "id": "9238f2cf",
   "metadata": {},
   "outputs": [],
   "source": [
    "from sklearn.preprocessing import StandardScaler\n",
    "scaler = StandardScaler()\n",
    "scaled_features = scaler.fit_transform(df[features])"
   ]
  },
  {
   "cell_type": "code",
   "execution_count": 10,
   "id": "70d3d076",
   "metadata": {},
   "outputs": [],
   "source": [
    "n_clusters = 3"
   ]
  },
  {
   "cell_type": "code",
   "execution_count": 11,
   "id": "4863c327",
   "metadata": {},
   "outputs": [
    {
     "data": {
      "text/plain": [
       "KMeans(n_clusters=3, random_state=42)"
      ]
     },
     "execution_count": 11,
     "metadata": {},
     "output_type": "execute_result"
    }
   ],
   "source": [
    "kmeans = KMeans(n_clusters=n_clusters, random_state=42)\n",
    "kmeans.fit(scaled_features)"
   ]
  },
  {
   "cell_type": "code",
   "execution_count": 12,
   "id": "d7377a51",
   "metadata": {},
   "outputs": [],
   "source": [
    "df[\"cluster\"] = kmeans.labels_"
   ]
  },
  {
   "cell_type": "code",
   "execution_count": 13,
   "id": "0e86f990",
   "metadata": {},
   "outputs": [
    {
     "data": {
      "image/png": "[encoded data removed]",
      "text/plain": [
       "<Figure size 432x288 with 1 Axes>"
      ]
     },
     "metadata": {
      "needs_background": "light"
     },
     "output_type": "display_data"
    }
   ],
   "source": [
    "plt.scatter(df[\"LatAccel\"], df[\"Brake\"], c=df[\"cluster\"], cmap=\"viridis\")\n",
    "plt.xlabel(\"Lateral Acceleration (g)\")\n",
    "plt.ylabel(\"Brake Pressure\")\n",
    "plt.title(\"Risky Driving Detection using K-Means\")\n",
    "plt.show()"
   ]
  },
  {
   "cell_type": "code",
   "execution_count": 14,
   "id": "9ad1c950",
   "metadata": {},
   "outputs": [
    {
     "data": {
      "text/plain": [
       "'The plot shows data points (drivers) scattered based on their lateral acceleration and brake pressure. K-Means identifies three clusters (represented by different colors). \\n\\n* **Cluster 1 (green):** This cluster might represent **normal driving** with moderate lateral acceleration and brake usage.\\n* **Cluster 2 (yellow):** This cluster might represent **potentially risky driving** with higher lateral acceleration or brake usage compared to cluster 1.\\n* **Cluster 3 (blue):** This cluster might represent **highly risky driving** with extreme lateral acceleration or brake usage, suggesting aggressive maneuvers or emergency situations.\\n\\n'"
      ]
     },
     "execution_count": 14,
     "metadata": {},
     "output_type": "execute_result"
    }
   ],
   "source": [
    "# Interpretation 1.RISKY DRIVING :\n",
    "\n",
    "'''The plot shows data points (drivers) scattered based on their lateral acceleration and brake pressure. K-Means identifies three clusters (represented by different colors). \n",
    "\n",
    "* **Cluster 1 (green):** This cluster might represent **normal driving** with moderate lateral acceleration and brake usage.\n",
    "* **Cluster 2 (yellow):** This cluster might represent **potentially risky driving** with higher lateral acceleration or brake usage compared to cluster 1.\n",
    "* **Cluster 3 (blue):** This cluster might represent **highly risky driving** with extreme lateral acceleration or brake usage, suggesting aggressive maneuvers or emergency situations.\n",
    "\n",
    "'''"
   ]
  },
  {
   "cell_type": "markdown",
   "id": "5ddcbf8e",
   "metadata": {},
   "source": [
    "# #SIMULATED DRIVING ENVIRONMENT RISK"
   ]
  },
  {
   "cell_type": "code",
   "execution_count": 15,
   "id": "a8f416b1",
   "metadata": {},
   "outputs": [],
   "source": [
    "features = [\"HeadwayDistance\", \"LeadVehPosX\", \"LaneOffset\"]  \n",
    "target = \"HeadwayTime\" "
   ]
  },
  {
   "cell_type": "code",
   "execution_count": 16,
   "id": "0f828fa2",
   "metadata": {},
   "outputs": [],
   "source": [
    "from sklearn.ensemble import RandomForestRegressor\n",
    "from sklearn.model_selection import train_test_split\n",
    "\n",
    "X_train, X_test, y_train, y_test = train_test_split(df[features], df[target], test_size=0.2, random_state=42)\n"
   ]
  },
  {
   "cell_type": "code",
   "execution_count": 17,
   "id": "dfc1eabd",
   "metadata": {},
   "outputs": [
    {
     "data": {
      "text/plain": [
       "RandomForestRegressor(random_state=42)"
      ]
     },
     "execution_count": 17,
     "metadata": {},
     "output_type": "execute_result"
    }
   ],
   "source": [
    "model = RandomForestRegressor(n_estimators=100, random_state=42)\n",
    "model.fit(X_train, y_train)"
   ]
  },
  {
   "cell_type": "code",
   "execution_count": 18,
   "id": "21e603b6",
   "metadata": {},
   "outputs": [
    {
     "name": "stdout",
     "output_type": "stream",
     "text": [
      "       HeadwayDistance  LeadVehPosX  LaneOffset\n",
      "1227         68.152198    14.499998   -0.530759\n",
      "14689     10000.000000     2.302970   -0.702285\n",
      "27310     10000.000000     2.302970   -0.356143\n",
      "16996     10000.000000     2.302970   -1.012521\n",
      "14092     10000.000000     2.302970   -0.648904\n",
      "...                ...          ...         ...\n",
      "14401     10000.000000     2.302970   -0.410961\n",
      "24455     10000.000000     2.302970   -0.302766\n",
      "23110     10000.000000     2.302970   -0.282321\n",
      "15018     10000.000000     2.302970   -0.321659\n",
      "20292     10000.000000     2.302970   -0.320311\n",
      "\n",
      "[5550 rows x 3 columns]\n"
     ]
    }
   ],
   "source": [
    "y_pred = model.predict(X_test)\n",
    "print(X_test)"
   ]
  },
  {
   "cell_type": "code",
   "execution_count": 19,
   "id": "145bc6b1",
   "metadata": {},
   "outputs": [
    {
     "name": "stdout",
     "output_type": "stream",
     "text": [
      "Mean Squared Error: 1.1916138709170856e+25\n"
     ]
    }
   ],
   "source": [
    "from sklearn.metrics import mean_squared_error\n",
    "mse = mean_squared_error(y_test, y_pred)\n",
    "print(f\"Mean Squared Error: {mse}\")"
   ]
  },
  {
   "cell_type": "code",
   "execution_count": 21,
   "id": "2cc3e65c",
   "metadata": {},
   "outputs": [],
   "source": [
    "#Using unsupervised learning to look for unsafe simulated environments"
   ]
  },
  {
   "cell_type": "code",
   "execution_count": 20,
   "id": "d5cd489f",
   "metadata": {},
   "outputs": [],
   "source": [
    "features = [\"HeadwayDistance\", \"LeadVehPosX\", \"LaneOffset\"]"
   ]
  },
  {
   "cell_type": "code",
   "execution_count": 21,
   "id": "47bfebd2",
   "metadata": {},
   "outputs": [
    {
     "data": {
      "text/plain": [
       "KMeans(n_clusters=3, random_state=42)"
      ]
     },
     "execution_count": 21,
     "metadata": {},
     "output_type": "execute_result"
    }
   ],
   "source": [
    "n_clusters = 3  # Experiment with different values\n",
    "kmeans = KMeans(n_clusters=n_clusters, random_state=42)\n",
    "kmeans.fit(df[features])"
   ]
  },
  {
   "cell_type": "code",
   "execution_count": 22,
   "id": "471cc788",
   "metadata": {},
   "outputs": [
    {
     "name": "stdout",
     "output_type": "stream",
     "text": [
      "Average HeadwayDistance by Cluster: cluster\n",
      "0    10000.000000\n",
      "1       51.878837\n",
      "2      225.987269\n",
      "Name: HeadwayDistance, dtype: float64\n",
      "The cluster with the least average HeadwayDistance is under hisher risk\n"
     ]
    }
   ],
   "source": [
    "df[\"cluster\"] = kmeans.labels_\n",
    "#assuming lower HeadwayDistance indicates higher risk\n",
    "cluster_risks = df.groupby(\"cluster\")[\"HeadwayDistance\"].mean()\n",
    "print(f\"Average HeadwayDistance by Cluster: {cluster_risks}\")\n",
    "\n",
    "print(\"The cluster with the least average HeadwayDistance is under hisher risk\")"
   ]
  },
  {
   "cell_type": "code",
   "execution_count": 23,
   "id": "719fece7",
   "metadata": {},
   "outputs": [
    {
     "data": {
      "image/png": "[encoded data removed]",
      "text/plain": [
       "<Figure size 432x288 with 1 Axes>"
      ]
     },
     "metadata": {
      "needs_background": "light"
     },
     "output_type": "display_data"
    }
   ],
   "source": [
    "# Visualize clusters (optional)\n",
    "import matplotlib.pyplot as plt\n",
    "\n",
    "plt.scatter(df[\"HeadwayDistance\"], df[\"LeadVehPosX\"], c=df[\"cluster\"], cmap=\"viridis\")\n",
    "plt.xlabel(\"Headway Distance (m)\")\n",
    "plt.ylabel(\"Lead Vehicle Position (X)\")\n",
    "plt.title(\"Simulated Environment Clusters\")\n",
    "plt.show()"
   ]
  },
  {
   "cell_type": "code",
   "execution_count": 26,
   "id": "5ec05d8d",
   "metadata": {},
   "outputs": [
    {
     "data": {
      "text/plain": [
       "'By analyzing the distribution of clusters, we can potentially gain insights into \\nrisk levels in the simulated environment. For example, a cluster with data points \\nconcentrated in the lower region of the Headway Distance axis might represent \\nsituations with a higher risk of collision due to closer proximity to leading vehicles.\\n\\nK-Means can not predict the exact risk but with further study and domain knowledge\\nbetter risk assesment stategies can be made.\\n\\n'"
      ]
     },
     "execution_count": 26,
     "metadata": {},
     "output_type": "execute_result"
    }
   ],
   "source": [
    "# Interpretation 2.SIMULATED DRIVING ENVIRONMENT RISK  :\n",
    "\n",
    "'''By analyzing the distribution of clusters, we can potentially gain insights into \n",
    "risk levels in the simulated environment. For example, a cluster with data points \n",
    "concentrated in the lower region of the Headway Distance axis might represent \n",
    "situations with a higher risk of collision due to closer proximity to leading vehicles.\n",
    "\n",
    "K-Means can not predict the exact risk but with further study and domain knowledge\n",
    "better risk assesment stategies can be made.\n",
    "\n",
    "'''\n"
   ]
  },
  {
   "cell_type": "markdown",
   "id": "44ae8b6a",
   "metadata": {},
   "source": [
    "# #DRIVER ATTENTION "
   ]
  },
  {
   "cell_type": "code",
   "execution_count": 24,
   "id": "7318bcff",
   "metadata": {},
   "outputs": [
    {
     "data": {
      "text/plain": [
       "'attentiveness_clusters = KMeans(n_clusters=3, random_state=42).fit_predict(data[[\"BLINKING\", \"LEFTEYELIDSTATE\"]])\\nprint(\"Attentiveness Clusters:\", attentiveness_clusters)'"
      ]
     },
     "execution_count": 24,
     "metadata": {},
     "output_type": "execute_result"
    }
   ],
   "source": [
    "'''attentiveness_clusters = KMeans(n_clusters=3, random_state=42).fit_predict(data[[\"BLINKING\", \"LEFTEYELIDSTATE\"]])\n",
    "print(\"Attentiveness Clusters:\", attentiveness_clusters)'''\n",
    "\n",
    "\n",
    "#UNABLE TO PROCEED WITH THE ABOVE FEATURES SISNCE THEY ARE EMPTY\n",
    "\n",
    "#\"None of [Index(['BLINKING', 'LEFTEYELIDSTATE'], dtype='object')] are in the [columns]\""
   ]
  },
  {
   "cell_type": "code",
   "execution_count": 25,
   "id": "8677d1e2",
   "metadata": {},
   "outputs": [],
   "source": [
    "features = [  \"LaneOffset\", \"Throttle\"]"
   ]
  },
  {
   "cell_type": "code",
   "execution_count": 26,
   "id": "dc89e4ff",
   "metadata": {},
   "outputs": [
    {
     "name": "stdout",
     "output_type": "stream",
     "text": [
      "Attentiveness Clusters: [2 2 2 ... 2 2 2]\n"
     ]
    }
   ],
   "source": [
    "attentiveness_clusters = KMeans(n_clusters=3, random_state=42).fit_predict(df[features])\n",
    "print(\"Attentiveness Clusters:\", attentiveness_clusters)"
   ]
  },
  {
   "cell_type": "code",
   "execution_count": 27,
   "id": "65e87c6f",
   "metadata": {},
   "outputs": [
    {
     "name": "stdout",
     "output_type": "stream",
     "text": [
      "Average Lane Offset by Cluster: 0    0.363361\n",
      "1    0.598526\n",
      "2    0.388819\n",
      "Name: LaneOffset, dtype: float64\n"
     ]
    }
   ],
   "source": [
    "cluster_lane_offsets = df.groupby(attentiveness_clusters)[\"LaneOffset\"].mean().abs()\n",
    "print(\"Average Lane Offset by Cluster:\", cluster_lane_offsets)"
   ]
  },
  {
   "cell_type": "code",
   "execution_count": 28,
   "id": "3a649179",
   "metadata": {},
   "outputs": [],
   "source": [
    "from sklearn.ensemble import IsolationForest\n",
    "# Anomaly detection\n",
    "anomaly_detector = IsolationForest()\n",
    "anomaly_scores = anomaly_detector.fit_predict(df[features])\n",
    "df[\"anomaly_score\"] = anomaly_scores"
   ]
  },
  {
   "cell_type": "code",
   "execution_count": 29,
   "id": "c1678812",
   "metadata": {},
   "outputs": [
    {
     "name": "stdout",
     "output_type": "stream",
     "text": [
      "Potential Distracted Drivers (based on anomaly scores):\n",
      "       LaneOffset  Throttle\n",
      "472     -0.054606  7.942294\n",
      "473     -0.055667  7.942294\n",
      "474     -0.056740  7.942294\n",
      "475     -0.057823  7.942294\n",
      "476     -0.058917  7.942294\n",
      "...           ...       ...\n",
      "27745   -0.356143  1.308809\n",
      "27746   -0.356143  1.308809\n",
      "27747   -0.356143  1.308809\n",
      "27748   -0.356143  1.308809\n",
      "27749   -0.356143  1.308809\n",
      "\n",
      "[23036 rows x 2 columns]\n"
     ]
    }
   ],
   "source": [
    "# Identify potential outliers (high anomaly scores)\n",
    "potential_distracted_drivers = df[df[\"anomaly_score\"] > 0.8]  # Adjust threshold as needed\n",
    "\n",
    "print(\"Potential Distracted Drivers (based on anomaly scores):\")\n",
    "print(potential_distracted_drivers[features])  \n",
    "\n"
   ]
  },
  {
   "cell_type": "markdown",
   "id": "c0a32225",
   "metadata": {},
   "source": [
    "# # 4. Driver DROWSINESS WITHOUT USING VIDEO FILE\n",
    "\n"
   ]
  },
  {
   "cell_type": "code",
   "execution_count": 30,
   "id": "a7aa7d97",
   "metadata": {},
   "outputs": [],
   "source": [
    "import pandas as pd\n",
    "from sklearn.model_selection import train_test_split\n",
    "from sklearn.metrics import accuracy_score, f1_score"
   ]
  },
  {
   "cell_type": "code",
   "execution_count": 31,
   "id": "d9d7dccb",
   "metadata": {},
   "outputs": [],
   "source": [
    "def classify_drowsiness(data):\n",
    "    # Replace with your drowsiness classification model\n",
    "    drowsiness_level = \"Undetermined\"\n",
    "    return drowsiness_level"
   ]
  },
  {
   "cell_type": "code",
   "execution_count": 32,
   "id": "4488c109",
   "metadata": {},
   "outputs": [],
   "source": [
    "X = df.drop([\"BLINKING\"], axis=1)\n",
    "y = df[\"BLINKING\"]"
   ]
  },
  {
   "cell_type": "code",
   "execution_count": 33,
   "id": "9a7bd2e4",
   "metadata": {},
   "outputs": [
    {
     "data": {
      "text/plain": [
       "0       NaN\n",
       "1       NaN\n",
       "2       NaN\n",
       "3       NaN\n",
       "4       NaN\n",
       "         ..\n",
       "27745   NaN\n",
       "27746   NaN\n",
       "27747   NaN\n",
       "27748   NaN\n",
       "27749   NaN\n",
       "Name: BLINKING, Length: 27750, dtype: float64"
      ]
     },
     "execution_count": 33,
     "metadata": {},
     "output_type": "execute_result"
    }
   ],
   "source": [
    "y"
   ]
  },
  {
   "cell_type": "code",
   "execution_count": 34,
   "id": "da643271",
   "metadata": {},
   "outputs": [],
   "source": [
    "#can not do because the blinking data is empty (supervides learning not possible)"
   ]
  },
  {
   "cell_type": "code",
   "execution_count": 35,
   "id": "5dec7ca1",
   "metadata": {},
   "outputs": [
    {
     "data": {
      "text/html": [
       "<div>\n",
       "<style scoped>\n",
       "    .dataframe tbody tr th:only-of-type {\n",
       "        vertical-align: middle;\n",
       "    }\n",
       "\n",
       "    .dataframe tbody tr th {\n",
       "        vertical-align: top;\n",
       "    }\n",
       "\n",
       "    .dataframe thead th {\n",
       "        text-align: right;\n",
       "    }\n",
       "</style>\n",
       "<table border=\"1\" class=\"dataframe\">\n",
       "  <thead>\n",
       "    <tr style=\"text-align: right;\">\n",
       "      <th></th>\n",
       "      <th>DatTime</th>\n",
       "      <th>SimTime</th>\n",
       "      <th>MediaTime</th>\n",
       "      <th>LonAccel</th>\n",
       "      <th>LatAccel</th>\n",
       "      <th>Throttle</th>\n",
       "      <th>Brake</th>\n",
       "      <th>Gear</th>\n",
       "      <th>Heading</th>\n",
       "      <th>HeadwayDistance</th>\n",
       "      <th>...</th>\n",
       "      <th>CriticalEventStatus</th>\n",
       "      <th>FRAME_NUM</th>\n",
       "      <th>FILTERED_GAZE_OBJ_NAME</th>\n",
       "      <th>ESTIMATED_CLOSEST_WORLD_INTERSECTION</th>\n",
       "      <th>REALTIME_CLOCK</th>\n",
       "      <th>hiFileTime</th>\n",
       "      <th>lowFileTime</th>\n",
       "      <th>SuddenBrake</th>\n",
       "      <th>cluster</th>\n",
       "      <th>anomaly_score</th>\n",
       "    </tr>\n",
       "  </thead>\n",
       "  <tbody>\n",
       "    <tr>\n",
       "      <th>0</th>\n",
       "      <td>0.016</td>\n",
       "      <td>0</td>\n",
       "      <td>0.133333</td>\n",
       "      <td>0.000448</td>\n",
       "      <td>0.001680</td>\n",
       "      <td>1.308809</td>\n",
       "      <td>0.0</td>\n",
       "      <td>0.0</td>\n",
       "      <td>359.999687</td>\n",
       "      <td>91.047424</td>\n",
       "      <td>...</td>\n",
       "      <td>0.0</td>\n",
       "      <td>NaN</td>\n",
       "      <td>NaN</td>\n",
       "      <td>NaN</td>\n",
       "      <td>NaN</td>\n",
       "      <td>NaN</td>\n",
       "      <td>NaN</td>\n",
       "      <td>0</td>\n",
       "      <td>1</td>\n",
       "      <td>-1</td>\n",
       "    </tr>\n",
       "    <tr>\n",
       "      <th>1</th>\n",
       "      <td>0.033</td>\n",
       "      <td>0</td>\n",
       "      <td>0.133333</td>\n",
       "      <td>0.000700</td>\n",
       "      <td>0.018673</td>\n",
       "      <td>1.308809</td>\n",
       "      <td>0.0</td>\n",
       "      <td>0.0</td>\n",
       "      <td>359.999555</td>\n",
       "      <td>91.046936</td>\n",
       "      <td>...</td>\n",
       "      <td>0.0</td>\n",
       "      <td>NaN</td>\n",
       "      <td>NaN</td>\n",
       "      <td>NaN</td>\n",
       "      <td>NaN</td>\n",
       "      <td>NaN</td>\n",
       "      <td>NaN</td>\n",
       "      <td>0</td>\n",
       "      <td>1</td>\n",
       "      <td>-1</td>\n",
       "    </tr>\n",
       "    <tr>\n",
       "      <th>2</th>\n",
       "      <td>0.049</td>\n",
       "      <td>0</td>\n",
       "      <td>0.166666</td>\n",
       "      <td>0.000808</td>\n",
       "      <td>0.030992</td>\n",
       "      <td>1.308809</td>\n",
       "      <td>0.0</td>\n",
       "      <td>0.0</td>\n",
       "      <td>359.999391</td>\n",
       "      <td>91.045715</td>\n",
       "      <td>...</td>\n",
       "      <td>0.0</td>\n",
       "      <td>NaN</td>\n",
       "      <td>NaN</td>\n",
       "      <td>NaN</td>\n",
       "      <td>NaN</td>\n",
       "      <td>NaN</td>\n",
       "      <td>NaN</td>\n",
       "      <td>0</td>\n",
       "      <td>1</td>\n",
       "      <td>-1</td>\n",
       "    </tr>\n",
       "    <tr>\n",
       "      <th>3</th>\n",
       "      <td>0.065</td>\n",
       "      <td>0</td>\n",
       "      <td>0.166666</td>\n",
       "      <td>0.000791</td>\n",
       "      <td>0.037267</td>\n",
       "      <td>1.308809</td>\n",
       "      <td>0.0</td>\n",
       "      <td>0.0</td>\n",
       "      <td>359.999225</td>\n",
       "      <td>91.044128</td>\n",
       "      <td>...</td>\n",
       "      <td>0.0</td>\n",
       "      <td>NaN</td>\n",
       "      <td>NaN</td>\n",
       "      <td>NaN</td>\n",
       "      <td>NaN</td>\n",
       "      <td>NaN</td>\n",
       "      <td>NaN</td>\n",
       "      <td>0</td>\n",
       "      <td>1</td>\n",
       "      <td>-1</td>\n",
       "    </tr>\n",
       "    <tr>\n",
       "      <th>4</th>\n",
       "      <td>0.082</td>\n",
       "      <td>0</td>\n",
       "      <td>0.200000</td>\n",
       "      <td>0.000659</td>\n",
       "      <td>0.037458</td>\n",
       "      <td>1.308809</td>\n",
       "      <td>0.0</td>\n",
       "      <td>0.0</td>\n",
       "      <td>359.999085</td>\n",
       "      <td>91.042297</td>\n",
       "      <td>...</td>\n",
       "      <td>0.0</td>\n",
       "      <td>NaN</td>\n",
       "      <td>NaN</td>\n",
       "      <td>NaN</td>\n",
       "      <td>NaN</td>\n",
       "      <td>NaN</td>\n",
       "      <td>NaN</td>\n",
       "      <td>0</td>\n",
       "      <td>1</td>\n",
       "      <td>-1</td>\n",
       "    </tr>\n",
       "  </tbody>\n",
       "</table>\n",
       "<p>5 rows × 40 columns</p>\n",
       "</div>"
      ],
      "text/plain": [
       "   DatTime  SimTime  MediaTime  LonAccel  LatAccel  Throttle  Brake  Gear  \\\n",
       "0    0.016        0   0.133333  0.000448  0.001680  1.308809    0.0   0.0   \n",
       "1    0.033        0   0.133333  0.000700  0.018673  1.308809    0.0   0.0   \n",
       "2    0.049        0   0.166666  0.000808  0.030992  1.308809    0.0   0.0   \n",
       "3    0.065        0   0.166666  0.000791  0.037267  1.308809    0.0   0.0   \n",
       "4    0.082        0   0.200000  0.000659  0.037458  1.308809    0.0   0.0   \n",
       "\n",
       "      Heading  HeadwayDistance  ...  CriticalEventStatus  FRAME_NUM  \\\n",
       "0  359.999687        91.047424  ...                  0.0        NaN   \n",
       "1  359.999555        91.046936  ...                  0.0        NaN   \n",
       "2  359.999391        91.045715  ...                  0.0        NaN   \n",
       "3  359.999225        91.044128  ...                  0.0        NaN   \n",
       "4  359.999085        91.042297  ...                  0.0        NaN   \n",
       "\n",
       "   FILTERED_GAZE_OBJ_NAME  ESTIMATED_CLOSEST_WORLD_INTERSECTION  \\\n",
       "0                     NaN                                   NaN   \n",
       "1                     NaN                                   NaN   \n",
       "2                     NaN                                   NaN   \n",
       "3                     NaN                                   NaN   \n",
       "4                     NaN                                   NaN   \n",
       "\n",
       "   REALTIME_CLOCK  hiFileTime  lowFileTime  SuddenBrake  cluster  \\\n",
       "0             NaN         NaN          NaN            0        1   \n",
       "1             NaN         NaN          NaN            0        1   \n",
       "2             NaN         NaN          NaN            0        1   \n",
       "3             NaN         NaN          NaN            0        1   \n",
       "4             NaN         NaN          NaN            0        1   \n",
       "\n",
       "   anomaly_score  \n",
       "0             -1  \n",
       "1             -1  \n",
       "2             -1  \n",
       "3             -1  \n",
       "4             -1  \n",
       "\n",
       "[5 rows x 40 columns]"
      ]
     },
     "execution_count": 35,
     "metadata": {},
     "output_type": "execute_result"
    }
   ],
   "source": [
    "df.head()"
   ]
  },
  {
   "cell_type": "code",
   "execution_count": 43,
   "id": "3a7a66f0",
   "metadata": {},
   "outputs": [
    {
     "ename": "SyntaxError",
     "evalue": "(unicode error) 'unicodeescape' codec can't decode bytes in position 2158-2159: truncated \\uXXXX escape (2655315645.py, line 79)",
     "output_type": "error",
     "traceback": [
      "\u001b[1;36m  Input \u001b[1;32mIn [43]\u001b[1;36m\u001b[0m\n\u001b[1;33m    CAN NOT PROCEED BECAUSE OF NULL VALUES '''\u001b[0m\n\u001b[1;37m                                              ^\u001b[0m\n\u001b[1;31mSyntaxError\u001b[0m\u001b[1;31m:\u001b[0m (unicode error) 'unicodeescape' codec can't decode bytes in position 2158-2159: truncated \\uXXXX escape\n"
     ]
    }
   ],
   "source": [
    "'''features = ['LonAccel', 'LatAccel', 'Throttle', 'Brake', 'Velocity', 'BLINKING', 'LEFTEYELIDSTATE', 'RIGHTEYELIDSTATE']\n",
    "X = df[features]\n",
    "X.fillna(0, inplace=True)\n",
    "X_normalized = (X - X.mean()) / X.std()\n",
    "kmeans = KMeans(n_clusters=2)  #2 clusters for awake vs. drowsy\n",
    "clusters = kmeans.fit_predict(X_normalized)\n",
    "ValueError                                Traceback (most recent call last)\n",
    "Input In [56], in <cell line: 6>()\n",
    "      4 X_normalized = (X - X.mean()) / X.std()\n",
    "      5 kmeans = KMeans(n_clusters=2)  #2 clusters for awake vs. drowsy\n",
    "----> 6 clusters = kmeans.fit_predict(X_normalized)\n",
    "\n",
    "File ~\\anaconda3\\lib\\site-packages\\sklearn\\cluster\\_kmeans.py:1255, in KMeans.fit_predict(self, X, y, sample_weight)\n",
    "   1232 def fit_predict(self, X, y=None, sample_weight=None):\n",
    "   1233     \"\"\"Compute cluster centers and predict cluster index for each sample.\n",
    "   1234 \n",
    "   1235     Convenience method; equivalent to calling fit(X) followed by\n",
    "   (...)\n",
    "   1253         Index of the cluster each sample belongs to.\n",
    "   1254     \"\"\"\n",
    "-> 1255     return self.fit(X, sample_weight=sample_weight).labels_\n",
    "\n",
    "File ~\\anaconda3\\lib\\site-packages\\sklearn\\cluster\\_kmeans.py:1137, in KMeans.fit(self, X, y, sample_weight)\n",
    "   1111 def fit(self, X, y=None, sample_weight=None):\n",
    "   1112     \"\"\"Compute k-means clustering.\n",
    "   1113 \n",
    "   1114     Parameters\n",
    "   (...)\n",
    "   1135         Fitted estimator.\n",
    "   1136     \"\"\"\n",
    "-> 1137     X = self._validate_data(\n",
    "   1138         X,\n",
    "   1139         accept_sparse=\"csr\",\n",
    "   1140         dtype=[np.float64, np.float32],\n",
    "   1141         order=\"C\",\n",
    "   1142         copy=self.copy_x,\n",
    "   1143         accept_large_sparse=False,\n",
    "   1144     )\n",
    "   1146     self._check_params(X)\n",
    "   1147     random_state = check_random_state(self.random_state)\n",
    "\n",
    "File ~\\anaconda3\\lib\\site-packages\\sklearn\\base.py:566, in BaseEstimator._validate_data(self, X, y, reset, validate_separately, **check_params)\n",
    "    564     raise ValueError(\"Validation should be done on X, y or both.\")\n",
    "    565 elif not no_val_X and no_val_y:\n",
    "--> 566     X = check_array(X, **check_params)\n",
    "    567     out = X\n",
    "    568 elif no_val_X and not no_val_y:\n",
    "\n",
    "File ~\\anaconda3\\lib\\site-packages\\sklearn\\utils\\validation.py:800, in check_array(array, accept_sparse, accept_large_sparse, dtype, order, copy, force_all_finite, ensure_2d, allow_nd, ensure_min_samples, ensure_min_features, estimator)\n",
    "    794         raise ValueError(\n",
    "    795             \"Found array with dim %d. %s expected <= 2.\"\n",
    "    796             % (array.ndim, estimator_name)\n",
    "    797         )\n",
    "    799     if force_all_finite:\n",
    "--> 800         _assert_all_finite(array, allow_nan=force_all_finite == \"allow-nan\")\n",
    "    802 if ensure_min_samples > 0:\n",
    "    803     n_samples = _num_samples(array)\n",
    "\n",
    "File ~\\anaconda3\\lib\\site-packages\\sklearn\\utils\\validation.py:114, in _assert_all_finite(X, allow_nan, msg_dtype)\n",
    "    107     if (\n",
    "    108         allow_nan\n",
    "    109         and np.isinf(X).any()\n",
    "    110         or not allow_nan\n",
    "    111         and not np.isfinite(X).all()\n",
    "    112     ):\n",
    "    113         type_err = \"infinity\" if allow_nan else \"NaN, infinity\"\n",
    "--> 114         raise ValueError(\n",
    "    115             msg_err.format(\n",
    "    116                 type_err, msg_dtype if msg_dtype is not None else X.dtype\n",
    "    117             )\n",
    "    118         )\n",
    "    119 # for object dtype data, we only check for NaNs (GH-13254)\n",
    "    120 elif X.dtype == np.dtype(\"object\") and not allow_nan:\n",
    "\n",
    "ValueError: Input contains NaN, infinity or a value too large for dtype('float64').\n",
    "\n",
    "\n",
    "\n",
    "CAN NOT PROCEED BECAUSE OF NULL VALUES '''"
   ]
  }
 ],
 "metadata": {
  "kernelspec": {
   "display_name": "Python 3 (ipykernel)",
   "language": "python",
   "name": "python3"
  },
  "language_info": {
   "codemirror_mode": {
    "name": "ipython",
    "version": 3
   },
   "file_extension": ".py",
   "mimetype": "text/x-python",
   "name": "python",
   "nbconvert_exporter": "python",
   "pygments_lexer": "ipython3",
   "version": "3.9.12"
  }
 },
 "nbformat": 4,
 "nbformat_minor": 5
}
